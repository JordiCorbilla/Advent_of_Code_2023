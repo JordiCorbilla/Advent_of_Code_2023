{
 "cells": [
  {
   "cell_type": "markdown",
   "id": "de2464b8",
   "metadata": {},
   "source": [
    "# Day 7\n",
    "# Part 1"
   ]
  },
  {
   "cell_type": "code",
   "execution_count": 4,
   "id": "78ac49c7",
   "metadata": {},
   "outputs": [
    {
     "ename": "SyntaxError",
     "evalue": "invalid syntax (1653218391.py, line 6)",
     "output_type": "error",
     "traceback": [
      "\u001b[1;36m  Cell \u001b[1;32mIn[4], line 6\u001b[1;36m\u001b[0m\n\u001b[1;33m    match [b for _, b in Counter(x).most_common()]:\u001b[0m\n\u001b[1;37m             ^\u001b[0m\n\u001b[1;31mSyntaxError\u001b[0m\u001b[1;31m:\u001b[0m invalid syntax\n"
     ]
    }
   ],
   "source": [
    "from collections import Counter\n",
    "from itertools import product\n",
    "\n",
    "\n",
    "def get_score(x):\n",
    "    match [b for _, b in Counter(x).most_common()]:\n",
    "        case 5, *_:\n",
    "            return 1\n",
    "        case 4, *_:\n",
    "            return 2\n",
    "        case 3, 2, *_:\n",
    "            return 3\n",
    "        case 3, *_:\n",
    "            return 4\n",
    "        case 2, 2, *_:\n",
    "            return 5\n",
    "        case 2, *_:\n",
    "            return 6\n",
    "        case _:\n",
    "            return 7\n",
    "\n",
    "def pairs(l):\n",
    "    it = iter(l)\n",
    "    return zip(it, it)\n",
    "\n",
    "def load_and_calculate_sum2(filename):\n",
    "    try:\n",
    "        with open(filename, 'r') as file:\n",
    "            order = \"AKQJT98765432\"\n",
    "            vals = []\n",
    "\n",
    "            for line in file:\n",
    "                cards, pts = line.split()\n",
    "                vals.append((get_score(cards), [order.index(x) for x in cards], int(pts)))\n",
    "\n",
    "            vals.sort(reverse=True)\n",
    "            return sum((i + 1) * v[-1] for i, v in enumerate(vals))\n",
    "    except FileNotFoundError:\n",
    "        print(f\"Error: File '{filename}' not found.\")\n",
    "        return None"
   ]
  },
  {
   "cell_type": "code",
   "execution_count": 3,
   "id": "3b380033",
   "metadata": {
    "scrolled": true
   },
   "outputs": [
    {
     "ename": "ValueError",
     "evalue": "too many values to unpack (expected 2)",
     "output_type": "error",
     "traceback": [
      "\u001b[1;31m---------------------------------------------------------------------------\u001b[0m",
      "\u001b[1;31mValueError\u001b[0m                                Traceback (most recent call last)",
      "Cell \u001b[1;32mIn[3], line 2\u001b[0m\n\u001b[0;32m      1\u001b[0m filename \u001b[38;5;241m=\u001b[39m \u001b[38;5;124m\"\u001b[39m\u001b[38;5;124mday7_part1_input.txt\u001b[39m\u001b[38;5;124m\"\u001b[39m\n\u001b[1;32m----> 2\u001b[0m total_sum \u001b[38;5;241m=\u001b[39m \u001b[43mload_and_calculate_sum2\u001b[49m\u001b[43m(\u001b[49m\u001b[43mfilename\u001b[49m\u001b[43m)\u001b[49m\n\u001b[0;32m      4\u001b[0m \u001b[38;5;28;01mif\u001b[39;00m total_sum \u001b[38;5;129;01mis\u001b[39;00m \u001b[38;5;129;01mnot\u001b[39;00m \u001b[38;5;28;01mNone\u001b[39;00m:\n\u001b[0;32m      5\u001b[0m     \u001b[38;5;28mprint\u001b[39m(\u001b[38;5;124mf\u001b[39m\u001b[38;5;124m\"\u001b[39m\u001b[38;5;124mTotal sum of extracted digits: \u001b[39m\u001b[38;5;132;01m{\u001b[39;00mtotal_sum\u001b[38;5;132;01m}\u001b[39;00m\u001b[38;5;124m\"\u001b[39m)\n",
      "Cell \u001b[1;32mIn[1], line 13\u001b[0m, in \u001b[0;36mload_and_calculate_sum2\u001b[1;34m(filename)\u001b[0m\n\u001b[0;32m     11\u001b[0m races \u001b[38;5;241m=\u001b[39m [\u001b[38;5;28mmap\u001b[39m(\u001b[38;5;28mint\u001b[39m, line\u001b[38;5;241m.\u001b[39msplit()[\u001b[38;5;241m1\u001b[39m:]) \u001b[38;5;28;01mfor\u001b[39;00m line \u001b[38;5;129;01min\u001b[39;00m file]\n\u001b[0;32m     12\u001b[0m ans \u001b[38;5;241m=\u001b[39m \u001b[38;5;241m1\u001b[39m\n\u001b[1;32m---> 13\u001b[0m \u001b[38;5;28;01mfor\u001b[39;00m time, dist \u001b[38;5;129;01min\u001b[39;00m \u001b[38;5;28mzip\u001b[39m(\u001b[38;5;241m*\u001b[39mraces):\n\u001b[0;32m     14\u001b[0m     ans \u001b[38;5;241m*\u001b[39m\u001b[38;5;241m=\u001b[39m \u001b[38;5;28msum\u001b[39m((time \u001b[38;5;241m-\u001b[39m hold) \u001b[38;5;241m*\u001b[39m hold \u001b[38;5;241m>\u001b[39m\u001b[38;5;241m=\u001b[39m dist \u001b[38;5;28;01mfor\u001b[39;00m hold \u001b[38;5;129;01min\u001b[39;00m \u001b[38;5;28mrange\u001b[39m(time))\n\u001b[0;32m     15\u001b[0m \u001b[38;5;28;01mreturn\u001b[39;00m ans\n",
      "\u001b[1;31mValueError\u001b[0m: too many values to unpack (expected 2)"
     ]
    }
   ],
   "source": [
    "filename = \"day7_part1_input.txt\"\n",
    "total_sum = load_and_calculate_sum2(filename)\n",
    "\n",
    "if total_sum is not None:\n",
    "    print(f\"Total sum of extracted digits: {total_sum}\")"
   ]
  },
  {
   "cell_type": "markdown",
   "id": "f40766da",
   "metadata": {},
   "source": [
    "# Part 2"
   ]
  },
  {
   "cell_type": "code",
   "execution_count": 5,
   "id": "27d42ce1",
   "metadata": {},
   "outputs": [],
   "source": [
    "import re\n",
    "import math\n",
    "from collections import defaultdict\n",
    "\n",
    "def pairs(l):\n",
    "    it = iter(l)\n",
    "    return zip(it, it)\n",
    "\n",
    "def load_and_calculate_sum2(filename):\n",
    "    try:\n",
    "        with open(filename, 'r') as file:\n",
    "            time, dist = [int(line.replace(\" \", \"\").split(\":\")[1]) for line in file]\n",
    "            a = (time - math.sqrt(time**2 - 4 * dist)) / 2\n",
    "            b = (time + math.sqrt(time**2 - 4 * dist)) / 2\n",
    "            return math.floor(b) - math.ceil(a) + 1\n",
    "    except FileNotFoundError:\n",
    "        print(f\"Error: File '{filename}' not found.\")\n",
    "        return None"
   ]
  },
  {
   "cell_type": "code",
   "execution_count": 6,
   "id": "9b8004cf",
   "metadata": {},
   "outputs": [
    {
     "name": "stdout",
     "output_type": "stream",
     "text": [
      "Total sum of extracted digits: 27102791\n"
     ]
    }
   ],
   "source": [
    "filename = \"day6_part1_input.txt\"\n",
    "total_sum = load_and_calculate_sum2(filename)\n",
    "\n",
    "if total_sum is not None:\n",
    "    print(f\"Total sum of extracted digits: {total_sum}\")"
   ]
  },
  {
   "cell_type": "markdown",
   "id": "17da1794",
   "metadata": {},
   "source": [
    "This code appears to be calculating the integer number of whole time units that fit within a given distance and time value. Specifically:\n",
    "\n",
    "time and dist are provided as inputs, probably representing the total time and distance values.\n",
    "It calculates a and b using the quadratic formula. This formula finds the solutions to the equation x^2 - time^2 = -4 * dist, which comes out of modeling constant acceleration motion physics.\n",
    "a and b represent the start and end times that bound the motion over the given distance and total time.\n",
    "It takes the floor of b and ceiling of a to get integer bounds.\n",
    "Then it returns the difference plus 1 to get the total count of whole integer time units that elapsed.\n",
    "So in summary, this is likely meant to calculate the number of whole time steps that would occur for uniform motion over a given distance and time duration. It's leveraging the quadratic formula and integer math to find this count."
   ]
  },
  {
   "cell_type": "markdown",
   "id": "9f6d77a6",
   "metadata": {},
   "source": [
    "\n",
    "The key equation the code is using is:\n",
    "\n",
    "x^2 - time^2 = -4 * dist\n",
    "\n",
    "Rather than modeling motion under constant acceleration, this comes directly from the mathematical constraint that:\n",
    "\n",
    "dist = average_velocity * time\n",
    "\n",
    "Where:\n",
    "\n",
    "average_velocity = (v_start + v_end)/2\n",
    "\n",
    "If we make the simplifying assumptions that the starting velocity v_start = 0 and the ending velocity v_end = x, then we can substitute those into the average velocity equation to get:\n",
    "\n",
    "dist = (0 + x)/2 * time\n",
    "dist = x/2 * time\n",
    "\n",
    "Solving this for x gives:\n",
    "\n",
    "x = 2*dist/time\n",
    "\n",
    "And substituting into the left side of the original constraint equation gives:\n",
    "\n",
    "(2dist/time)^2 - time^2 = -4dist\n",
    "\n",
    "Which simplifies to:\n",
    "\n",
    "x^2 - time^2 = -4*dist\n"
   ]
  },
  {
   "cell_type": "code",
   "execution_count": null,
   "id": "b24bf78f",
   "metadata": {},
   "outputs": [],
   "source": []
  }
 ],
 "metadata": {
  "kernelspec": {
   "display_name": "Python 3 (ipykernel)",
   "language": "python",
   "name": "python3"
  },
  "language_info": {
   "codemirror_mode": {
    "name": "ipython",
    "version": 3
   },
   "file_extension": ".py",
   "mimetype": "text/x-python",
   "name": "python",
   "nbconvert_exporter": "python",
   "pygments_lexer": "ipython3",
   "version": "3.9.7"
  }
 },
 "nbformat": 4,
 "nbformat_minor": 5
}
