{
 "cells": [
  {
   "cell_type": "markdown",
   "id": "de2464b8",
   "metadata": {},
   "source": [
    "# Day 7\n",
    "# Part 1"
   ]
  },
  {
   "cell_type": "code",
   "execution_count": 5,
   "id": "78ac49c7",
   "metadata": {},
   "outputs": [],
   "source": [
    "from itertools import product\n",
    "from collections import Counter\n",
    "\n",
    "def get_score(x):\n",
    "    scores = Counter(x).most_common()\n",
    "    top_counts = [b for _, b in scores]\n",
    "    \n",
    "    if top_counts == [5]:\n",
    "        return 1\n",
    "    elif top_counts[0] == 4:  \n",
    "        return 2\n",
    "    elif top_counts[0] == 3 and len(top_counts) > 1 and top_counts[1] == 2:\n",
    "        return 3  \n",
    "    elif top_counts[0] == 3:\n",
    "        return 4\n",
    "    elif top_counts[0] == 2 and len(top_counts) > 1 and top_counts[1] == 2:\n",
    "        return 5\n",
    "    elif top_counts[0] == 2:\n",
    "        return 6\n",
    "    else:\n",
    "        return 7\n",
    "\n",
    "def pairs(l):\n",
    "    it = iter(l)\n",
    "    return zip(it, it)\n",
    "\n",
    "def load_and_calculate_sum2(filename):\n",
    "    try:\n",
    "        with open(filename, 'r') as file:\n",
    "            order = \"AKQJT98765432\"\n",
    "            vals = []\n",
    "\n",
    "            for line in file:\n",
    "                cards, pts = line.split()\n",
    "                vals.append((get_score(cards), [order.index(x) for x in cards], int(pts)))\n",
    "\n",
    "            vals.sort(reverse=True)\n",
    "            return sum((i + 1) * v[-1] for i, v in enumerate(vals))\n",
    "    except FileNotFoundError:\n",
    "        print(f\"Error: File '{filename}' not found.\")\n",
    "        return None"
   ]
  },
  {
   "cell_type": "code",
   "execution_count": 6,
   "id": "3b380033",
   "metadata": {
    "scrolled": true
   },
   "outputs": [
    {
     "name": "stdout",
     "output_type": "stream",
     "text": [
      "Total sum of extracted digits: 250254244\n"
     ]
    }
   ],
   "source": [
    "filename = \"day7_part1_input.txt\"\n",
    "total_sum = load_and_calculate_sum2(filename)\n",
    "\n",
    "if total_sum is not None:\n",
    "    print(f\"Total sum of extracted digits: {total_sum}\")"
   ]
  },
  {
   "cell_type": "markdown",
   "id": "f40766da",
   "metadata": {},
   "source": [
    "# Part 2"
   ]
  },
  {
   "cell_type": "code",
   "execution_count": 5,
   "id": "27d42ce1",
   "metadata": {},
   "outputs": [],
   "source": [
    "import re\n",
    "import math\n",
    "from collections import defaultdict\n",
    "\n",
    "def pairs(l):\n",
    "    it = iter(l)\n",
    "    return zip(it, it)\n",
    "\n",
    "def load_and_calculate_sum2(filename):\n",
    "    try:\n",
    "        with open(filename, 'r') as file:\n",
    "            time, dist = [int(line.replace(\" \", \"\").split(\":\")[1]) for line in file]\n",
    "            a = (time - math.sqrt(time**2 - 4 * dist)) / 2\n",
    "            b = (time + math.sqrt(time**2 - 4 * dist)) / 2\n",
    "            return math.floor(b) - math.ceil(a) + 1\n",
    "    except FileNotFoundError:\n",
    "        print(f\"Error: File '{filename}' not found.\")\n",
    "        return None"
   ]
  },
  {
   "cell_type": "code",
   "execution_count": 6,
   "id": "9b8004cf",
   "metadata": {},
   "outputs": [
    {
     "name": "stdout",
     "output_type": "stream",
     "text": [
      "Total sum of extracted digits: 27102791\n"
     ]
    }
   ],
   "source": [
    "filename = \"day6_part1_input.txt\"\n",
    "total_sum = load_and_calculate_sum2(filename)\n",
    "\n",
    "if total_sum is not None:\n",
    "    print(f\"Total sum of extracted digits: {total_sum}\")"
   ]
  },
  {
   "cell_type": "markdown",
   "id": "17da1794",
   "metadata": {},
   "source": [
    "This code appears to be calculating the integer number of whole time units that fit within a given distance and time value. Specifically:\n",
    "\n",
    "time and dist are provided as inputs, probably representing the total time and distance values.\n",
    "It calculates a and b using the quadratic formula. This formula finds the solutions to the equation x^2 - time^2 = -4 * dist, which comes out of modeling constant acceleration motion physics.\n",
    "a and b represent the start and end times that bound the motion over the given distance and total time.\n",
    "It takes the floor of b and ceiling of a to get integer bounds.\n",
    "Then it returns the difference plus 1 to get the total count of whole integer time units that elapsed.\n",
    "So in summary, this is likely meant to calculate the number of whole time steps that would occur for uniform motion over a given distance and time duration. It's leveraging the quadratic formula and integer math to find this count."
   ]
  },
  {
   "cell_type": "markdown",
   "id": "9f6d77a6",
   "metadata": {},
   "source": [
    "\n",
    "The key equation the code is using is:\n",
    "\n",
    "x^2 - time^2 = -4 * dist\n",
    "\n",
    "Rather than modeling motion under constant acceleration, this comes directly from the mathematical constraint that:\n",
    "\n",
    "dist = average_velocity * time\n",
    "\n",
    "Where:\n",
    "\n",
    "average_velocity = (v_start + v_end)/2\n",
    "\n",
    "If we make the simplifying assumptions that the starting velocity v_start = 0 and the ending velocity v_end = x, then we can substitute those into the average velocity equation to get:\n",
    "\n",
    "dist = (0 + x)/2 * time\n",
    "dist = x/2 * time\n",
    "\n",
    "Solving this for x gives:\n",
    "\n",
    "x = 2*dist/time\n",
    "\n",
    "And substituting into the left side of the original constraint equation gives:\n",
    "\n",
    "(2dist/time)^2 - time^2 = -4dist\n",
    "\n",
    "Which simplifies to:\n",
    "\n",
    "x^2 - time^2 = -4*dist\n"
   ]
  },
  {
   "cell_type": "code",
   "execution_count": null,
   "id": "b24bf78f",
   "metadata": {},
   "outputs": [],
   "source": []
  }
 ],
 "metadata": {
  "kernelspec": {
   "display_name": "Python 3 (ipykernel)",
   "language": "python",
   "name": "python3"
  },
  "language_info": {
   "codemirror_mode": {
    "name": "ipython",
    "version": 3
   },
   "file_extension": ".py",
   "mimetype": "text/x-python",
   "name": "python",
   "nbconvert_exporter": "python",
   "pygments_lexer": "ipython3",
   "version": "3.9.7"
  }
 },
 "nbformat": 4,
 "nbformat_minor": 5
}
