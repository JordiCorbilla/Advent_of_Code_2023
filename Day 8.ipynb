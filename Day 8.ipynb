{
 "cells": [
  {
   "cell_type": "markdown",
   "id": "de2464b8",
   "metadata": {},
   "source": [
    "# Day 7\n",
    "# Part 1"
   ]
  },
  {
   "cell_type": "code",
   "execution_count": 5,
   "id": "78ac49c7",
   "metadata": {},
   "outputs": [],
   "source": [
    "from itertools import product\n",
    "from collections import Counter\n",
    "\n",
    "def get_score(x):\n",
    "    scores = Counter(x).most_common()\n",
    "    top_counts = [b for _, b in scores]\n",
    "    \n",
    "    if top_counts == [5]:\n",
    "        return 1\n",
    "    elif top_counts[0] == 4:  \n",
    "        return 2\n",
    "    elif top_counts[0] == 3 and len(top_counts) > 1 and top_counts[1] == 2:\n",
    "        return 3  \n",
    "    elif top_counts[0] == 3:\n",
    "        return 4\n",
    "    elif top_counts[0] == 2 and len(top_counts) > 1 and top_counts[1] == 2:\n",
    "        return 5\n",
    "    elif top_counts[0] == 2:\n",
    "        return 6\n",
    "    else:\n",
    "        return 7\n",
    "\n",
    "def pairs(l):\n",
    "    it = iter(l)\n",
    "    return zip(it, it)\n",
    "\n",
    "def load_and_calculate_sum2(filename):\n",
    "    try:\n",
    "        with open(filename, 'r') as file:\n",
    "            order = \"AKQJT98765432\"\n",
    "            vals = []\n",
    "\n",
    "            for line in file:\n",
    "                cards, pts = line.split()\n",
    "                vals.append((get_score(cards), [order.index(x) for x in cards], int(pts)))\n",
    "\n",
    "            vals.sort(reverse=True)\n",
    "            return sum((i + 1) * v[-1] for i, v in enumerate(vals))\n",
    "    except FileNotFoundError:\n",
    "        print(f\"Error: File '{filename}' not found.\")\n",
    "        return None"
   ]
  },
  {
   "cell_type": "code",
   "execution_count": 6,
   "id": "3b380033",
   "metadata": {
    "scrolled": true
   },
   "outputs": [
    {
     "name": "stdout",
     "output_type": "stream",
     "text": [
      "Total sum of extracted digits: 250254244\n"
     ]
    }
   ],
   "source": [
    "filename = \"day7_part1_input.txt\"\n",
    "total_sum = load_and_calculate_sum2(filename)\n",
    "\n",
    "if total_sum is not None:\n",
    "    print(f\"Total sum of extracted digits: {total_sum}\")"
   ]
  },
  {
   "cell_type": "markdown",
   "id": "f40766da",
   "metadata": {},
   "source": [
    "# Part 2"
   ]
  },
  {
   "cell_type": "code",
   "execution_count": 7,
   "id": "27d42ce1",
   "metadata": {},
   "outputs": [],
   "source": [
    "import re\n",
    "import math\n",
    "from collections import defaultdict\n",
    "\n",
    "def pairs(l):\n",
    "    it = iter(l)\n",
    "    return zip(it, it)\n",
    "\n",
    "def load_and_calculate_sum2(filename):\n",
    "    try:\n",
    "        with open(filename, 'r') as file:\n",
    "            order = \"AKQT98765432J\"\n",
    "            vals = []\n",
    "\n",
    "            for line in file:\n",
    "                cards, pts = line.split()\n",
    "                score = get_score(cards)\n",
    "                for subs in product(order[:-1], repeat=cards.count(\"J\")):\n",
    "                    score = min(score, get_score(cards.replace(\"J\", \"\") + \"\".join(subs)))\n",
    "                vals.append((score, [order.index(x) for x in cards], int(pts)))\n",
    "\n",
    "            vals.sort(reverse=True)\n",
    "            return sum((i + 1) * v[-1] for i, v in enumerate(vals))\n",
    "    except FileNotFoundError:\n",
    "        print(f\"Error: File '{filename}' not found.\")\n",
    "        return None"
   ]
  },
  {
   "cell_type": "code",
   "execution_count": 8,
   "id": "9b8004cf",
   "metadata": {},
   "outputs": [
    {
     "name": "stdout",
     "output_type": "stream",
     "text": [
      "Total sum of extracted digits: 250087440\n"
     ]
    }
   ],
   "source": [
    "filename = \"day7_part1_input.txt\"\n",
    "total_sum = load_and_calculate_sum2(filename)\n",
    "\n",
    "if total_sum is not None:\n",
    "    print(f\"Total sum of extracted digits: {total_sum}\")"
   ]
  },
  {
   "cell_type": "code",
   "execution_count": null,
   "id": "b24bf78f",
   "metadata": {},
   "outputs": [],
   "source": []
  }
 ],
 "metadata": {
  "kernelspec": {
   "display_name": "Python 3 (ipykernel)",
   "language": "python",
   "name": "python3"
  },
  "language_info": {
   "codemirror_mode": {
    "name": "ipython",
    "version": 3
   },
   "file_extension": ".py",
   "mimetype": "text/x-python",
   "name": "python",
   "nbconvert_exporter": "python",
   "pygments_lexer": "ipython3",
   "version": "3.9.7"
  }
 },
 "nbformat": 4,
 "nbformat_minor": 5
}
