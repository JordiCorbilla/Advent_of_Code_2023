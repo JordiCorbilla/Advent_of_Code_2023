{
 "cells": [
  {
   "cell_type": "markdown",
   "id": "de2464b8",
   "metadata": {},
   "source": [
    "# Day 5\n",
    "# Part 1"
   ]
  },
  {
   "cell_type": "code",
   "execution_count": 1,
   "id": "78ac49c7",
   "metadata": {},
   "outputs": [],
   "source": [
    "import re\n",
    "from collections import defaultdict\n",
    "\n",
    "def pairs(l):\n",
    "    it = iter(l)\n",
    "    return zip(it, it)\n",
    "\n",
    "def load_and_calculate_sum2(filename):\n",
    "    try:\n",
    "        with open(filename, 'r') as file:\n",
    "            seeds, *mappings = file.read().split(\"\\n\\n\")\n",
    "            seeds = seeds.split(\": \")[1]\n",
    "            seeds = [int(x) for x in seeds.split()]\n",
    "\n",
    "            for m in mappings:\n",
    "                _, *ranges = m.splitlines()\n",
    "                ranges = [[int(x) for x in r.split()] for r in ranges]\n",
    "                ranges = [(range(a, a + c), range(b, b + c)) for a, b, c in ranges]\n",
    "\n",
    "                def translate(x):\n",
    "                    for a, b in ranges:\n",
    "                        if x in b:\n",
    "                            return a.start + x - b.start\n",
    "                    return x\n",
    "\n",
    "                seeds = [translate(x) for x in seeds]\n",
    "\n",
    "            return min(seeds)\n",
    "    except FileNotFoundError:\n",
    "        print(f\"Error: File '{filename}' not found.\")\n",
    "        return None"
   ]
  },
  {
   "cell_type": "code",
   "execution_count": 2,
   "id": "3b380033",
   "metadata": {
    "scrolled": true
   },
   "outputs": [
    {
     "name": "stdout",
     "output_type": "stream",
     "text": [
      "Total sum of extracted digits: 51752125\n"
     ]
    }
   ],
   "source": [
    "filename = \"day5_part1_input.txt\"\n",
    "total_sum = load_and_calculate_sum2(filename)\n",
    "\n",
    "if total_sum is not None:\n",
    "    print(f\"Total sum of extracted digits: {total_sum}\")"
   ]
  },
  {
   "cell_type": "markdown",
   "id": "f40766da",
   "metadata": {},
   "source": [
    "# Part 2"
   ]
  },
  {
   "cell_type": "code",
   "execution_count": 3,
   "id": "27d42ce1",
   "metadata": {},
   "outputs": [],
   "source": [
    "import re\n",
    "from collections import defaultdict\n",
    "\n",
    "def pairs(l):\n",
    "    it = iter(l)\n",
    "    return zip(it, it)\n",
    "\n",
    "def load_and_calculate_sum2(filename):\n",
    "    try:\n",
    "        with open(filename, 'r') as file:\n",
    "            seeds, *mappings = file.read().split(\"\\n\\n\")\n",
    "            seeds = seeds.split(\": \")[1]\n",
    "            seeds = [int(x) for x in seeds.split()]\n",
    "            seeds = [range(a, a + b) for a, b in pairs(seeds)]\n",
    "\n",
    "            for m in mappings:\n",
    "                _, *ranges = m.splitlines()\n",
    "                ranges = [[int(x) for x in r.split()] for r in ranges]\n",
    "                ranges = [(range(a, a + c), range(b, b + c)) for a, b, c in ranges]\n",
    "                new_seeds = []\n",
    "\n",
    "                for r in seeds:\n",
    "                    for tr, fr in ranges:\n",
    "                        offset = tr.start - fr.start\n",
    "                        if r.stop <= fr.start or fr.stop <= r.start:\n",
    "                            continue\n",
    "                        ir = range(max(r.start, fr.start), min(r.stop, fr.stop))\n",
    "                        lr = range(r.start, ir.start)\n",
    "                        rr = range(ir.stop, r.stop)\n",
    "                        if lr:\n",
    "                            seeds.append(lr)\n",
    "                        if rr:\n",
    "                            seeds.append(rr)\n",
    "                        new_seeds.append(range(ir.start + offset, ir.stop + offset))\n",
    "                        break\n",
    "                    else:\n",
    "                        new_seeds.append(r)\n",
    "\n",
    "                seeds = new_seeds\n",
    "\n",
    "            return min(x.start for x in seeds)\n",
    "    except FileNotFoundError:\n",
    "        print(f\"Error: File '{filename}' not found.\")\n",
    "        return None"
   ]
  },
  {
   "cell_type": "code",
   "execution_count": 4,
   "id": "9b8004cf",
   "metadata": {},
   "outputs": [
    {
     "name": "stdout",
     "output_type": "stream",
     "text": [
      "Total sum of extracted digits: 12634632\n"
     ]
    }
   ],
   "source": [
    "filename = \"day5_part1_input.txt\"\n",
    "total_sum = load_and_calculate_sum2(filename)\n",
    "\n",
    "if total_sum is not None:\n",
    "    print(f\"Total sum of extracted digits: {total_sum}\")"
   ]
  },
  {
   "cell_type": "code",
   "execution_count": null,
   "id": "6412039d",
   "metadata": {},
   "outputs": [],
   "source": []
  }
 ],
 "metadata": {
  "kernelspec": {
   "display_name": "Python 3 (ipykernel)",
   "language": "python",
   "name": "python3"
  },
  "language_info": {
   "codemirror_mode": {
    "name": "ipython",
    "version": 3
   },
   "file_extension": ".py",
   "mimetype": "text/x-python",
   "name": "python",
   "nbconvert_exporter": "python",
   "pygments_lexer": "ipython3",
   "version": "3.9.7"
  }
 },
 "nbformat": 4,
 "nbformat_minor": 5
}
