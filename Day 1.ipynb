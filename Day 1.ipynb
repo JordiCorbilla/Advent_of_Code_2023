{
 "cells": [
  {
   "cell_type": "markdown",
   "id": "41f1e3af",
   "metadata": {},
   "source": [
    "# Day 1 \n",
    "## Part 1"
   ]
  },
  {
   "cell_type": "code",
   "execution_count": 1,
   "id": "d90fcf6c",
   "metadata": {},
   "outputs": [],
   "source": [
    "def extract_digits(line):\n",
    "    # Find the first and last digits in the string\n",
    "    first_digit = next((char for char in line if char.isdigit()), None)\n",
    "    last_digit = next((char for char in reversed(line) if char.isdigit()), None)\n",
    "\n",
    "    # If either first_digit or last_digit is None, set them both to the same digit\n",
    "    if first_digit is None or last_digit is None:\n",
    "        first_digit = last_digit = line[-1] if line[-1].isdigit() else None\n",
    "\n",
    "    # Combine the digits and convert to an integer\n",
    "    result = int(first_digit + last_digit)\n",
    "\n",
    "    return result"
   ]
  },
  {
   "cell_type": "code",
   "execution_count": 2,
   "id": "0dc42a7f",
   "metadata": {},
   "outputs": [],
   "source": [
    "def load_and_calculate_sum(filename):\n",
    "    try:\n",
    "        with open(filename, 'r') as file:\n",
    "            lines = file.readlines()\n",
    "            # Calculate the sum of extracted digits from all lines\n",
    "            digit_sum = sum(extract_digits(line) for line in lines)\n",
    "            return digit_sum\n",
    "    except FileNotFoundError:\n",
    "        print(f\"Error: File '{filename}' not found.\")\n",
    "        return None"
   ]
  },
  {
   "cell_type": "code",
   "execution_count": 4,
   "id": "42e71497",
   "metadata": {},
   "outputs": [
    {
     "name": "stdout",
     "output_type": "stream",
     "text": [
      "Total sum of extracted digits: 54927\n"
     ]
    }
   ],
   "source": [
    "filename = \"day1_part1_input.txt\"\n",
    "total_sum = load_and_calculate_sum(filename)\n",
    "\n",
    "if total_sum is not None:\n",
    "    print(f\"Total sum of extracted digits: {total_sum}\")"
   ]
  },
  {
   "cell_type": "markdown",
   "id": "d6027984",
   "metadata": {},
   "source": [
    "## Part 2"
   ]
  },
  {
   "cell_type": "code",
   "execution_count": 53,
   "id": "1ab0b7c0",
   "metadata": {},
   "outputs": [],
   "source": [
    "def convert_spelled_numbers(text):\n",
    "    result = []\n",
    "    current_word = ''\n",
    "\n",
    "    for char in text:\n",
    "        if char.isalpha():\n",
    "            current_word += char\n",
    "            if current_word.__contains__('one') or current_word.__contains__('two') or \\\n",
    "                    current_word.__contains__('three') or current_word.__contains__('four') or \\\n",
    "                    current_word.__contains__('five') or current_word.__contains__('six') or \\\n",
    "                    current_word.__contains__('seven') or current_word.__contains__('eight') or \\\n",
    "                    current_word.__contains__('nine'):\n",
    "                result.append(str(convert_to_number(current_word)))\n",
    "                current_word = ''\n",
    "        else:\n",
    "            if current_word:\n",
    "                result.append(str(convert_to_number(current_word)))\n",
    "                current_word = ''\n",
    "            result.append(char)\n",
    "\n",
    "    # Handle the case where the last part of the string is a spelled-out number\n",
    "    if current_word:\n",
    "        result.append(str(convert_to_number(current_word)))\n",
    "\n",
    "    return ''.join(result)\n",
    "\n",
    "\n",
    "def convert_to_number(value):\n",
    "    # Convert spelled-out numbers to their corresponding digits\n",
    "    number_mapping = {\n",
    "        'one': 1, 'two': 2, 'three': 3, 'four': 4,\n",
    "        'five': 5, 'six': 6, 'seven': 7, 'eight': 8,\n",
    "        'nine': 9\n",
    "    }\n",
    "\n",
    "    num = value.replace('one', '1')\n",
    "    num = num.replace('two', '2')\n",
    "    num = num.replace('three', '3')\n",
    "    num = num.replace('four', '4')\n",
    "    num = num.replace('five', '5')\n",
    "    num = num.replace('six', '6')\n",
    "    num = num.replace('seven', '7')\n",
    "    num = num.replace('eight', '8')\n",
    "    num = num.replace('nine', '9')\n",
    "\n",
    "    return num"
   ]
  },
  {
   "cell_type": "code",
   "execution_count": 55,
   "id": "c25d8a2c",
   "metadata": {},
   "outputs": [],
   "source": [
    "def extract_digits2(line):\n",
    "    #print(line)\n",
    "    # Replace spelled-out numbers with corresponding digits\n",
    "    line_with_digits = convert_spelled_numbers(line)\n",
    "    \n",
    "    #print(line_with_digits)\n",
    "    # Find the first and last digits in the modified string\n",
    "    first_digit = next((char for char in line_with_digits if char.isdigit()), None)\n",
    "    last_digit = next((char for char in reversed(line_with_digits) if char.isdigit()), None)\n",
    "\n",
    "    # If either first_digit or last_digit is None, set them both to the same digit\n",
    "    if first_digit is None or last_digit is None:\n",
    "        first_digit = last_digit = line_with_digits[-1] if line_with_digits[-1].isdigit() else None\n",
    "\n",
    "    # Combine the digits and convert to an integer\n",
    "    result = int(first_digit + last_digit)\n",
    "    #print(result)\n",
    "    return result"
   ]
  },
  {
   "cell_type": "code",
   "execution_count": 56,
   "id": "4a07c4c8",
   "metadata": {},
   "outputs": [],
   "source": [
    "def load_and_calculate_sum2(filename):\n",
    "    try:\n",
    "        with open(filename, 'r') as file:\n",
    "            lines = file.readlines()\n",
    "            # Calculate the sum of extracted digits from all lines\n",
    "            digit_sum = sum(extract_digits2(line) for line in lines)\n",
    "            return digit_sum\n",
    "    except FileNotFoundError:\n",
    "        print(f\"Error: File '{filename}' not found.\")\n",
    "        return None"
   ]
  },
  {
   "cell_type": "code",
   "execution_count": 57,
   "id": "08fead11",
   "metadata": {},
   "outputs": [
    {
     "name": "stdout",
     "output_type": "stream",
     "text": [
      "Total sum of extracted digits: 54607\n"
     ]
    }
   ],
   "source": [
    "filename = \"day1_part1_input.txt\"\n",
    "total_sum = load_and_calculate_sum2(filename)\n",
    "\n",
    "if total_sum is not None:\n",
    "    print(f\"Total sum of extracted digits: {total_sum}\")"
   ]
  },
  {
   "cell_type": "code",
   "execution_count": 58,
   "id": "1c99c604",
   "metadata": {},
   "outputs": [
    {
     "name": "stdout",
     "output_type": "stream",
     "text": [
      "Total sum of extracted digits: 281\n"
     ]
    }
   ],
   "source": [
    "filename = \"day1_part2_sample.txt\"\n",
    "total_sum = load_and_calculate_sum(filename)\n",
    "\n",
    "if total_sum is not None:\n",
    "    print(f\"Total sum of extracted digits: {total_sum}\")"
   ]
  },
  {
   "cell_type": "code",
   "execution_count": null,
   "id": "18aeb0f7",
   "metadata": {},
   "outputs": [],
   "source": []
  },
  {
   "cell_type": "code",
   "execution_count": null,
   "id": "b4d3441e",
   "metadata": {},
   "outputs": [],
   "source": []
  }
 ],
 "metadata": {
  "kernelspec": {
   "display_name": "Python 3 (ipykernel)",
   "language": "python",
   "name": "python3"
  },
  "language_info": {
   "codemirror_mode": {
    "name": "ipython",
    "version": 3
   },
   "file_extension": ".py",
   "mimetype": "text/x-python",
   "name": "python",
   "nbconvert_exporter": "python",
   "pygments_lexer": "ipython3",
   "version": "3.9.7"
  }
 },
 "nbformat": 4,
 "nbformat_minor": 5
}
