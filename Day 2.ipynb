{
 "cells": [
  {
   "cell_type": "markdown",
   "id": "e992fca4",
   "metadata": {},
   "source": [
    "# Day 2\n",
    "## Part 1"
   ]
  },
  {
   "cell_type": "code",
   "execution_count": 3,
   "id": "19fe01d2",
   "metadata": {},
   "outputs": [],
   "source": [
    "def load_and_calculate_sum2(filename):\n",
    "    try:\n",
    "        with open(filename, 'r') as file:\n",
    "            lines = file.readlines()\n",
    "            ans = 0\n",
    "            for line in lines:\n",
    "                id, game = line.split(\": \")\n",
    "                for set in game.split(\"; \"):\n",
    "                    colors = [x.split() for x in set.split(\", \")]\n",
    "                    counts = {b: int(a) for a, b in colors}\n",
    "                    if not (counts.get(\"red\", 0) <= 12 and counts.get(\"green\", 0) <= 13 and counts.get(\"blue\", 0) <= 14):\n",
    "                        break\n",
    "                else:\n",
    "                    ans += int(id.split()[-1])\n",
    "            return ans\n",
    "    except FileNotFoundError:\n",
    "        print(f\"Error: File '{filename}' not found.\")\n",
    "        return None"
   ]
  },
  {
   "cell_type": "code",
   "execution_count": 4,
   "id": "5e2f4dc8",
   "metadata": {},
   "outputs": [
    {
     "name": "stdout",
     "output_type": "stream",
     "text": [
      "Total sum of extracted digits: 1734\n"
     ]
    }
   ],
   "source": [
    "filename = \"day2_part1_input.txt\"\n",
    "total_sum = load_and_calculate_sum2(filename)\n",
    "\n",
    "if total_sum is not None:\n",
    "    print(f\"Total sum of extracted digits: {total_sum}\")"
   ]
  },
  {
   "cell_type": "code",
   "execution_count": 5,
   "id": "7639a1b1",
   "metadata": {},
   "outputs": [],
   "source": [
    "def load_and_calculate_sum2(filename):\n",
    "    try:\n",
    "        with open(filename, 'r') as file:\n",
    "            lines = file.readlines()\n",
    "            ans = 0\n",
    "            for line in lines:\n",
    "                id, game = line.split(\": \")\n",
    "                needed = {\"red\": 0, \"green\": 0, \"blue\": 0}\n",
    "                for set in game.split(\"; \"):\n",
    "                    colors = [x.split() for x in set.split(\", \")]\n",
    "                    counts = {b: int(a) for a, b in colors}\n",
    "                    needed[\"red\"] = max(needed[\"red\"], counts.get(\"red\", 0))\n",
    "                    needed[\"green\"] = max(needed[\"green\"], counts.get(\"green\", 0))\n",
    "                    needed[\"blue\"] = max(needed[\"blue\"], counts.get(\"blue\", 0))\n",
    "                ans += needed[\"red\"] * needed[\"green\"] * needed[\"blue\"]\n",
    "            return ans\n",
    "    except FileNotFoundError:\n",
    "        print(f\"Error: File '{filename}' not found.\")\n",
    "        return None"
   ]
  },
  {
   "cell_type": "code",
   "execution_count": 6,
   "id": "b541b4bc",
   "metadata": {},
   "outputs": [
    {
     "name": "stdout",
     "output_type": "stream",
     "text": [
      "Total sum of extracted digits: 70387\n"
     ]
    }
   ],
   "source": [
    "filename = \"day2_part1_input.txt\"\n",
    "total_sum = load_and_calculate_sum2(filename)\n",
    "\n",
    "if total_sum is not None:\n",
    "    print(f\"Total sum of extracted digits: {total_sum}\")"
   ]
  },
  {
   "cell_type": "code",
   "execution_count": null,
   "id": "55ce587f",
   "metadata": {},
   "outputs": [],
   "source": []
  }
 ],
 "metadata": {
  "kernelspec": {
   "display_name": "Python 3 (ipykernel)",
   "language": "python",
   "name": "python3"
  },
  "language_info": {
   "codemirror_mode": {
    "name": "ipython",
    "version": 3
   },
   "file_extension": ".py",
   "mimetype": "text/x-python",
   "name": "python",
   "nbconvert_exporter": "python",
   "pygments_lexer": "ipython3",
   "version": "3.9.7"
  }
 },
 "nbformat": 4,
 "nbformat_minor": 5
}
