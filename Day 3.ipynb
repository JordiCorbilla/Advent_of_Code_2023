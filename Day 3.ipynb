{
 "cells": [
  {
   "cell_type": "markdown",
   "id": "bcdc2ac4",
   "metadata": {},
   "source": [
    "# Day 3\n",
    "# Part 1"
   ]
  },
  {
   "cell_type": "code",
   "execution_count": 3,
   "id": "62da6f96",
   "metadata": {},
   "outputs": [],
   "source": [
    "import re\n",
    "from collections import defaultdict\n",
    "\n",
    "def load_and_calculate_sum2(filename):\n",
    "    try:\n",
    "        with open(filename, 'r') as file:\n",
    "            lines = file.read().splitlines()\n",
    "            ans = 0\n",
    "            for i, line in enumerate(lines):\n",
    "                for m in re.finditer(r\"\\d+\", line):\n",
    "                    idxs = [(i, m.start() - 1), (i, m.end())]\n",
    "                    idxs += [(i - 1, j) for j in range(m.start() - 1, m.end() + 1)]\n",
    "                    idxs += [(i + 1, j) for j in range(m.start() - 1, m.end() + 1)]\n",
    "                    count = sum(0 <= a < len(lines) and 0 <= b < len(lines[a]) and lines[a][b] != \".\" for a, b in idxs)\n",
    "                    if count > 0:\n",
    "                        ans += int(m.group())\n",
    "            return ans\n",
    "    except FileNotFoundError:\n",
    "        print(f\"Error: File '{filename}' not found.\")\n",
    "        return None"
   ]
  },
  {
   "cell_type": "code",
   "execution_count": 4,
   "id": "54147d3a",
   "metadata": {},
   "outputs": [
    {
     "name": "stdout",
     "output_type": "stream",
     "text": [
      "Total sum of extracted digits: 535351\n"
     ]
    }
   ],
   "source": [
    "filename = \"day3_part1_input.txt\"\n",
    "total_sum = load_and_calculate_sum2(filename)\n",
    "\n",
    "if total_sum is not None:\n",
    "    print(f\"Total sum of extracted digits: {total_sum}\")"
   ]
  },
  {
   "cell_type": "code",
   "execution_count": 5,
   "id": "a51c97cf",
   "metadata": {},
   "outputs": [],
   "source": [
    "import re\n",
    "from collections import defaultdict\n",
    "\n",
    "def load_and_calculate_sum2(filename):\n",
    "    try:\n",
    "        with open(filename, 'r') as file:\n",
    "            lines = file.read().splitlines()\n",
    "            adj = defaultdict(list)\n",
    "            for i, line in enumerate(lines):\n",
    "                for m in re.finditer(r\"\\d+\", line):\n",
    "                    idxs = [(i, m.start() - 1), (i, m.end())]\n",
    "                    idxs += [(i - 1, j) for j in range(m.start() - 1, m.end() + 1)]\n",
    "                    idxs += [(i + 1, j) for j in range(m.start() - 1, m.end() + 1)]\n",
    "                    for a, b in idxs:\n",
    "                        if 0 <= a < len(lines) and 0 <= b < len(lines[a]) and lines[a][b] == \"*\":\n",
    "                            adj[a, b].append(m.group())\n",
    "            return sum(int(x[0]) * int(x[1]) for x in adj.values() if len(x) == 2)\n",
    "    except FileNotFoundError:\n",
    "        print(f\"Error: File '{filename}' not found.\")\n",
    "        return None"
   ]
  },
  {
   "cell_type": "code",
   "execution_count": 6,
   "id": "a8876503",
   "metadata": {},
   "outputs": [
    {
     "name": "stdout",
     "output_type": "stream",
     "text": [
      "Total sum of extracted digits: 87287096\n"
     ]
    }
   ],
   "source": [
    "filename = \"day3_part1_input.txt\"\n",
    "total_sum = load_and_calculate_sum2(filename)\n",
    "\n",
    "if total_sum is not None:\n",
    "    print(f\"Total sum of extracted digits: {total_sum}\")"
   ]
  },
  {
   "cell_type": "code",
   "execution_count": null,
   "id": "e5a65278",
   "metadata": {},
   "outputs": [],
   "source": []
  }
 ],
 "metadata": {
  "kernelspec": {
   "display_name": "Python 3 (ipykernel)",
   "language": "python",
   "name": "python3"
  },
  "language_info": {
   "codemirror_mode": {
    "name": "ipython",
    "version": 3
   },
   "file_extension": ".py",
   "mimetype": "text/x-python",
   "name": "python",
   "nbconvert_exporter": "python",
   "pygments_lexer": "ipython3",
   "version": "3.9.7"
  }
 },
 "nbformat": 4,
 "nbformat_minor": 5
}
