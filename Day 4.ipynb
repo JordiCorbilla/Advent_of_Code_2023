{
 "cells": [
  {
   "cell_type": "markdown",
   "id": "42df85fd",
   "metadata": {},
   "source": [
    "# Day 4\n",
    "## Part 1"
   ]
  },
  {
   "cell_type": "code",
   "execution_count": 3,
   "id": "cf9b6819",
   "metadata": {},
   "outputs": [],
   "source": [
    "import re\n",
    "from collections import defaultdict\n",
    "\n",
    "def load_and_calculate_sum2(filename):\n",
    "    try:\n",
    "        with open(filename, 'r') as file:\n",
    "            lines = file.read().splitlines()\n",
    "            ans = 0\n",
    "            for line in lines:\n",
    "                _, line = line.split(\": \")\n",
    "                wins, nums = map(str.split, line.split(\" | \"))\n",
    "                count = sum(nums.count(w) for w in wins)\n",
    "                if count > 0:\n",
    "                    ans += 2 ** (count - 1)\n",
    "            return ans\n",
    "    except FileNotFoundError:\n",
    "        print(f\"Error: File '{filename}' not found.\")\n",
    "        return None"
   ]
  },
  {
   "cell_type": "code",
   "execution_count": 4,
   "id": "e3adcdc2",
   "metadata": {},
   "outputs": [
    {
     "name": "stdout",
     "output_type": "stream",
     "text": [
      "Total sum of extracted digits: 26218\n"
     ]
    }
   ],
   "source": [
    "filename = \"day4_part1_input.txt\"\n",
    "total_sum = load_and_calculate_sum2(filename)\n",
    "\n",
    "if total_sum is not None:\n",
    "    print(f\"Total sum of extracted digits: {total_sum}\")"
   ]
  },
  {
   "cell_type": "code",
   "execution_count": 5,
   "id": "35e84ed4",
   "metadata": {},
   "outputs": [],
   "source": [
    "import re\n",
    "from collections import defaultdict\n",
    "\n",
    "def load_and_calculate_sum2(filename):\n",
    "    try:\n",
    "        with open(filename, 'r') as file:\n",
    "            lines = file.read().splitlines()\n",
    "            cards = defaultdict(int)\n",
    "            for i, line in enumerate(lines):\n",
    "                _, line = line.split(\": \")\n",
    "                wins, nums = map(str.split, line.split(\" | \"))\n",
    "                count = sum(nums.count(w) for w in wins)\n",
    "                cards[i] += 1\n",
    "                for j in range(i + 1, i + count + 1):\n",
    "                    cards[j] += cards[i]\n",
    "            return sum(cards.values())\n",
    "    except FileNotFoundError:\n",
    "        print(f\"Error: File '{filename}' not found.\")\n",
    "        return None"
   ]
  },
  {
   "cell_type": "code",
   "execution_count": 6,
   "id": "8f55c525",
   "metadata": {},
   "outputs": [
    {
     "name": "stdout",
     "output_type": "stream",
     "text": [
      "Total sum of extracted digits: 9997537\n"
     ]
    }
   ],
   "source": [
    "filename = \"day4_part1_input.txt\"\n",
    "total_sum = load_and_calculate_sum2(filename)\n",
    "\n",
    "if total_sum is not None:\n",
    "    print(f\"Total sum of extracted digits: {total_sum}\")"
   ]
  },
  {
   "cell_type": "code",
   "execution_count": null,
   "id": "a50fe5d2",
   "metadata": {},
   "outputs": [],
   "source": []
  }
 ],
 "metadata": {
  "kernelspec": {
   "display_name": "Python 3 (ipykernel)",
   "language": "python",
   "name": "python3"
  },
  "language_info": {
   "codemirror_mode": {
    "name": "ipython",
    "version": 3
   },
   "file_extension": ".py",
   "mimetype": "text/x-python",
   "name": "python",
   "nbconvert_exporter": "python",
   "pygments_lexer": "ipython3",
   "version": "3.9.7"
  }
 },
 "nbformat": 4,
 "nbformat_minor": 5
}
