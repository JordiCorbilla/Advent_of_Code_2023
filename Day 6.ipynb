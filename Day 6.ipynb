{
 "cells": [
  {
   "cell_type": "markdown",
   "id": "de2464b8",
   "metadata": {},
   "source": [
    "# Day 5\n",
    "# Part 1"
   ]
  },
  {
   "cell_type": "code",
   "execution_count": 1,
   "id": "78ac49c7",
   "metadata": {},
   "outputs": [],
   "source": [
    "import re\n",
    "from collections import defaultdict\n",
    "\n",
    "def pairs(l):\n",
    "    it = iter(l)\n",
    "    return zip(it, it)\n",
    "\n",
    "def load_and_calculate_sum2(filename):\n",
    "    try:\n",
    "        with open(filename, 'r') as file:\n",
    "            races = [map(int, line.split()[1:]) for line in file]\n",
    "            ans = 1\n",
    "            for time, dist in zip(*races):\n",
    "                ans *= sum((time - hold) * hold >= dist for hold in range(time))\n",
    "            return ans\n",
    "    except FileNotFoundError:\n",
    "        print(f\"Error: File '{filename}' not found.\")\n",
    "        return None"
   ]
  },
  {
   "cell_type": "code",
   "execution_count": 2,
   "id": "3b380033",
   "metadata": {
    "scrolled": true
   },
   "outputs": [
    {
     "name": "stdout",
     "output_type": "stream",
     "text": [
      "Total sum of extracted digits: 3316275\n"
     ]
    }
   ],
   "source": [
    "filename = \"day6_part1_input.txt\"\n",
    "total_sum = load_and_calculate_sum2(filename)\n",
    "\n",
    "if total_sum is not None:\n",
    "    print(f\"Total sum of extracted digits: {total_sum}\")"
   ]
  },
  {
   "cell_type": "markdown",
   "id": "f40766da",
   "metadata": {},
   "source": [
    "# Part 2"
   ]
  },
  {
   "cell_type": "code",
   "execution_count": 5,
   "id": "27d42ce1",
   "metadata": {},
   "outputs": [],
   "source": [
    "import re\n",
    "import math\n",
    "from collections import defaultdict\n",
    "\n",
    "def pairs(l):\n",
    "    it = iter(l)\n",
    "    return zip(it, it)\n",
    "\n",
    "def load_and_calculate_sum2(filename):\n",
    "    try:\n",
    "        with open(filename, 'r') as file:\n",
    "            time, dist = [int(line.replace(\" \", \"\").split(\":\")[1]) for line in file]\n",
    "            a = (time - math.sqrt(time**2 - 4 * dist)) / 2\n",
    "            b = (time + math.sqrt(time**2 - 4 * dist)) / 2\n",
    "            return math.floor(b) - math.ceil(a) + 1\n",
    "    except FileNotFoundError:\n",
    "        print(f\"Error: File '{filename}' not found.\")\n",
    "        return None"
   ]
  },
  {
   "cell_type": "code",
   "execution_count": 6,
   "id": "9b8004cf",
   "metadata": {},
   "outputs": [
    {
     "name": "stdout",
     "output_type": "stream",
     "text": [
      "Total sum of extracted digits: 27102791\n"
     ]
    }
   ],
   "source": [
    "filename = \"day6_part1_input.txt\"\n",
    "total_sum = load_and_calculate_sum2(filename)\n",
    "\n",
    "if total_sum is not None:\n",
    "    print(f\"Total sum of extracted digits: {total_sum}\")"
   ]
  },
  {
   "cell_type": "code",
   "execution_count": null,
   "id": "6412039d",
   "metadata": {},
   "outputs": [],
   "source": []
  }
 ],
 "metadata": {
  "kernelspec": {
   "display_name": "Python 3 (ipykernel)",
   "language": "python",
   "name": "python3"
  },
  "language_info": {
   "codemirror_mode": {
    "name": "ipython",
    "version": 3
   },
   "file_extension": ".py",
   "mimetype": "text/x-python",
   "name": "python",
   "nbconvert_exporter": "python",
   "pygments_lexer": "ipython3",
   "version": "3.9.7"
  }
 },
 "nbformat": 4,
 "nbformat_minor": 5
}
